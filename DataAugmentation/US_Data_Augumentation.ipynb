{
  "nbformat": 4,
  "nbformat_minor": 0,
  "metadata": {
    "colab": {
      "provenance": [],
      "gpuType": "T4"
    },
    "kernelspec": {
      "name": "python3",
      "display_name": "Python 3"
    },
    "language_info": {
      "name": "python"
    },
    "accelerator": "GPU"
  },
  "cells": [
    {
      "cell_type": "code",
      "execution_count": null,
      "metadata": {
        "colab": {
          "base_uri": "https://localhost:8080/"
        },
        "id": "MatZuJqYQ64o",
        "outputId": "afbece1e-bf95-426c-cfa4-761baf9070ea"
      },
      "outputs": [
        {
          "output_type": "stream",
          "name": "stdout",
          "text": [
            "Mounted at /content/drive\n",
            "\n",
            "Processing class: malignant\n",
            "  210 original images copied.\n",
            "  Generating ~9 augmentations per original image to add at least 1790 images.\n",
            "  Final count for class 'malignant': 2000 images.\n",
            "\n",
            "Processing class: benign\n",
            "  447 original images copied.\n",
            "  Generating ~4 augmentations per original image to add at least 1553 images.\n",
            "  Final count for class 'benign': 2000 images.\n",
            "\n",
            "Processing class: normal\n",
            "  133 original images copied.\n",
            "  Generating ~15 augmentations per original image to add at least 1867 images.\n",
            "  Final count for class 'normal': 2000 images.\n",
            "\n",
            "Data augmentation completed. Check your output folder in Google Drive.\n"
          ]
        }
      ],
      "source": [
        "# Mount your Google Drive\n",
        "from google.colab import drive\n",
        "drive.mount('/content/drive')\n",
        "\n",
        "import os\n",
        "import math\n",
        "from tensorflow.keras.preprocessing.image import ImageDataGenerator, load_img, img_to_array\n",
        "\n",
        "# ========== Configuration ==========\n",
        "# Set these paths to match your Drive folders\n",
        "# Input folder should have three subfolders: 'malignant', 'benign', and 'normal'\n",
        "input_base = '/content/drive/MyDrive/Dataset_BUSI_without_mask'   # Change to your input folder path\n",
        "# Output folder where augmented data will be saved (structure will be created automatically)\n",
        "output_base = '/content/drive/MyDrive/BUSI_aug'       # Change to your desired output folder path\n",
        "\n",
        "classes = ['malignant', 'benign', 'normal']\n",
        "target_images = 2000  # desired number of images per class\n",
        "\n",
        "# ========== Augmentation Settings ==========\n",
        "# These parameters can be tuned based on the characteristics of ultrasound images\n",
        "datagen = ImageDataGenerator(\n",
        "    rotation_range=20,         # rotate images by up to 20 degrees\n",
        "    width_shift_range=0.1,     # shift horizontally by up to 10%\n",
        "    height_shift_range=0.1,    # shift vertically by up to 10%\n",
        "    shear_range=0.1,           # shear intensity (for slight slanting)\n",
        "    zoom_range=0.1,            # zoom in/out by up to 10%\n",
        "    horizontal_flip=True,      # allow horizontal flipping\n",
        "    fill_mode='nearest'        # fill missing pixels with nearest valid values\n",
        ")\n",
        "\n",
        "# ========== Create Output Directories ==========\n",
        "for cls in classes:\n",
        "    out_cls_dir = os.path.join(output_base, cls)\n",
        "    if not os.path.exists(out_cls_dir):\n",
        "        os.makedirs(out_cls_dir)\n",
        "\n",
        "# ========== Process Each Class ==========\n",
        "for cls in classes:\n",
        "    print(f\"\\nProcessing class: {cls}\")\n",
        "    input_dir = os.path.join(input_base, cls)\n",
        "    output_dir = os.path.join(output_base, cls)\n",
        "\n",
        "    # Get list of original image filenames\n",
        "    image_files = [f for f in os.listdir(input_dir) if f.lower().endswith(('.png', '.jpg', '.jpeg', '.bmp'))]\n",
        "\n",
        "    # First, copy original images to output folder\n",
        "    count = 0\n",
        "    for filename in image_files:\n",
        "        src_path = os.path.join(input_dir, filename)\n",
        "        dst_path = os.path.join(output_dir, filename)\n",
        "        # Load the image using Keras (this also normalizes image channels)\n",
        "        img = load_img(src_path)\n",
        "        img.save(dst_path)  # save original image in output folder\n",
        "        count += 1\n",
        "\n",
        "    print(f\"  {count} original images copied.\")\n",
        "\n",
        "    # Calculate how many augmented images are needed\n",
        "    required = target_images - count\n",
        "    if required <= 0:\n",
        "        print(\"  Already have 2000 or more images. Skipping augmentation for this class.\")\n",
        "        continue\n",
        "\n",
        "    # To determine how many augmented images to generate per original image:\n",
        "    n_orig = len(image_files)\n",
        "    aug_per_image = math.ceil(required / n_orig)\n",
        "    print(f\"  Generating ~{aug_per_image} augmentations per original image to add at least {required} images.\")\n",
        "\n",
        "    # For each original image, generate augmentations\n",
        "    for filename in image_files:\n",
        "        img_path = os.path.join(input_dir, filename)\n",
        "        img = load_img(img_path)\n",
        "        x = img_to_array(img)\n",
        "        x = x.reshape((1,) + x.shape)  # shape: (1, height, width, channels)\n",
        "\n",
        "        # Generate augmentations for this image\n",
        "        i = 0\n",
        "        for batch in datagen.flow(x, batch_size=1,\n",
        "                                  save_to_dir=output_dir,\n",
        "                                  save_prefix='aug',\n",
        "                                  save_format='png'):\n",
        "            i += 1\n",
        "            count += 1\n",
        "            if i >= aug_per_image or count >= target_images:\n",
        "                break  # break inner loop if enough augmentations for this image or overall count reached\n",
        "        if count >= target_images:\n",
        "            break  # break outer loop if this class has reached the target\n",
        "\n",
        "    print(f\"  Final count for class '{cls}': {count} images.\")\n",
        "\n",
        "print(\"\\nData augmentation completed. Check your output folder in Google Drive.\")\n"
      ]
    },
    {
      "cell_type": "code",
      "source": [],
      "metadata": {
        "id": "O3Uu4U-7TXx5"
      },
      "execution_count": null,
      "outputs": []
    }
  ]
}